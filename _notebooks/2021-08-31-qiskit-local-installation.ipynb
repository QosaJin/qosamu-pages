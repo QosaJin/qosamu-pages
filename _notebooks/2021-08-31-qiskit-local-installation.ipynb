{
 "cells": [
  {
   "cell_type": "markdown",
   "id": "0b46d564",
   "metadata": {},
   "source": [
    "# Qiskit のローカル環境セットアップをしてみる"
   ]
  },
  {
   "cell_type": "markdown",
   "id": "9d1d03f3",
   "metadata": {},
   "source": [
    "## はじめに\n",
    "最近 (主に) Qiskit を使って量子コンピュータの勉強をしています。Qiskit は IBM が開発した量子コンピューティング用の python library で、Software 上で量子回路を作り、それをシミュレータ (古典コンピュータ上で量子計算を行なう) で動かしたり、実機で動かして検証することができます。\n",
    "ちょっと試してみるとか、予め用意されたサンプルコードを手っ取り早く動かしたいという場合は [IBM Quantum](https://quantum-computing.ibm.com/) でアカウントを作り、そのままクラウド上で動かすと良いです。\n",
    "\n",
    "ただし、サーバ側のご機嫌が悪い時はアクセスに時間がかかったり、そもそもアクセスできないこともあるし、ある程度 Qiskit を使ってコードを書けるようになったりした場合にはローカル環境で使えると便利です。そこで今回は Qiskit のローカル環境セットアップ時の手順のメモを残しておきます。"
   ]
  },
  {
   "cell_type": "markdown",
   "id": "9c7a9772",
   "metadata": {},
   "source": [
    "## 準備\n",
    "今回は macOS Big Sur (Version 11.4) でインストールしています。\n",
    "Qiskit documentation の [Getting Started](https://qiskit.org/documentation/getting_started.html) -> Installation -> Start locally を参照しました。\n",
    "前準備としてドキュメントにある通り、conda で python のパッケージ管理をすることにしました。\n",
    "あまり大きなパッケージをインストールしたくなかったので、[Miniconda](https://docs.conda.io/en/latest/miniconda.html) をインストールしました。Python の version は 3.9 です。\n"
   ]
  },
  {
   "cell_type": "markdown",
   "id": "ea9863f5",
   "metadata": {},
   "source": [
    "## conda で Qiskit 用の環境を用意\n",
    "まずは conda で Qiskit 用の環境 'Qiskit' を用意します。\n",
    "```\n",
    "(base) tsubasa-cc$ conda create -n Qiskit python=3\n",
    "----- snip -----\n",
    "\n",
    "The following NEW packages will be INSTALLED:\n",
    "\n",
    "  ca-certificates    pkgs/main/osx-64::ca-certificates-2021.7.5-hecd8cb5_1\n",
    "  certifi            pkgs/main/osx-64::certifi-2021.5.30-py39hecd8cb5_0\n",
    "  libcxx             pkgs/main/osx-64::libcxx-10.0.0-1\n",
    "  libffi             pkgs/main/osx-64::libffi-3.3-hb1e8313_2\n",
    "  ncurses            pkgs/main/osx-64::ncurses-6.2-h0a44026_1\n",
    "  openssl            pkgs/main/osx-64::openssl-1.1.1k-h9ed2024_0\n",
    "  pip                pkgs/main/osx-64::pip-21.2.4-py37hecd8cb5_0\n",
    "  python             pkgs/main/osx-64::python-3.9.6-h88f2d9e_1\n",
    "  readline           pkgs/main/osx-64::readline-8.1-h9ed2024_0\n",
    "  setuptools         pkgs/main/osx-64::setuptools-52.0.0-py39hecd8cb5_0\n",
    "  sqlite             pkgs/main/osx-64::sqlite-3.36.0-hce871da_0\n",
    "  tk                 pkgs/main/osx-64::tk-8.6.10-hb0a8c7a_0\n",
    "  tzdata             pkgs/main/noarch::tzdata-2021a-h5d7bf9c_0\n",
    "  wheel              pkgs/main/noarch::wheel-0.37.0-pyhd3eb1b0_0\n",
    "  xz                 pkgs/main/osx-64::xz-5.2.5-h1de35cc_0\n",
    "  zlib               pkgs/main/osx-64::zlib-1.2.11-h1de35cc_3\n",
    "\n",
    "\n",
    "Proceed ([y]/n)? y\n",
    "----- snip -----\n",
    "#\n",
    "# To activate this environment, use\n",
    "#\n",
    "#     $ conda activate Qiskit\n",
    "#\n",
    "# To deactivate an active environment, use\n",
    "#\n",
    "#     $ conda deactivate\n",
    "```\n",
    "\n",
    "create できたら、activate します。\n",
    "```\n",
    "(base) tsubasa-cc$ conda activate Qiskit\n",
    "(Qiskit) tsubasa-cc$\n",
    "```\n",
    "activate すると、プロンプトの左端が設定した環境名 'Qiskit' に変わります。この 'Qiskit' 環境の中で必要なものをインストールしていきます。"
   ]
  },
  {
   "cell_type": "markdown",
   "id": "3fc85bd1",
   "metadata": {},
   "source": [
    "## qiskit のインストール\n",
    "pip は conda create でインストール済みなので、あとは pip install qiskit で qiskit をインストールします。\n",
    "```\n",
    "(Qiskit) tsubasa-cc$ pip install qiskit\n",
    "Collecting qiskit\n",
    "  Downloading qiskit-0.29.0.tar.gz (12 kB)\n",
    "Collecting qiskit-terra==0.18.1\n",
    "  Downloading qiskit_terra-0.18.1-cp39-cp39-macosx_10_9_x86_64.whl (5.3 MB)\n",
    "----- snip -----\n",
    "Successfully installed attrs-21.2.0 cffi-1.14.6 charset-normalizer-2.0.4 cryptography-3.4.7 dill-0.3.4 dlx-1.0.4 docplex-2.21.207 fastdtw-0.3.4 fastjsonschema-2.15.1 h5py-3.2.1 idna-3.2 inflection-0.5.1 joblib-1.0.1 jsonschema-3.2.0 lxml-4.6.3 more-itertools-8.8.0 mpmath-1.2.1 multitasking-0.0.9 ntlm-auth-1.5.0 numpy-1.21.2 pandas-1.3.2 ply-3.11 psutil-5.8.0 pybind11-2.7.1 pycparser-2.20 pyrsistent-0.18.0 python-constraint-1.4.0 python-dateutil-2.8.2 pytz-2021.1 qiskit-0.29.0 qiskit-aer-0.8.2 qiskit-aqua-0.9.4 qiskit-ibmq-provider-0.16.0 qiskit-ignis-0.6.0 qiskit-terra-0.18.1 quandl-3.6.1 requests-2.26.0 requests-ntlm-1.1.0 retworkx-0.9.0 scikit-learn-0.24.2 scipy-1.7.1 six-1.16.0 symengine-0.7.2 sympy-1.8 threadpoolctl-2.2.0 tweedledum-1.1.0 urllib3-1.26.6 websocket-client-1.2.1 yfinance-0.1.62\n",
    "```\n",
    "Successfully installed ... と出れば完了です。qiskit だけでなく、qiskit を利用するのに標準で使うパッケージ達もインストールし手くれるようです。\n",
    "Python/Qiskit を CLI のみで使うならばこれだけで良いのですが、Jupyter Notebook で動かすのが色々と便利なので、その場合は [visualization] のサポートも必要です。\n",
    "```\n",
    "(Qiskit) tsubasa-cc$ pip install qiskit[visualization]\n",
    "----- snip -----\n",
    "Successfully built pylatexenc\n",
    "Installing collected packages: ipython-genutils, traitlets, wcwidth, tornado, pyzmq, pyparsing, ptyprocess, parso, nest-asyncio, jupyter-core, entrypoints, webencodings, pygments, prompt-toolkit, pickleshare, pexpect, packaging, nbformat, matplotlib-inline, MarkupSafe, jupyter-client, jedi, decorator, backcall, appnope, testpath, pandocfilters, nbclient, mistune, jupyterlab-pygments, jinja2, ipython, defusedxml, debugpy, bleach, terminado, Send2Trash, prometheus-client, nbconvert, ipykernel, argon2-cffi, pillow, notebook, kiwisolver, cycler, widgetsnbextension, matplotlib, jupyterlab-widgets, seaborn, pylatexenc, pydot, ipywidgets\n",
    "Successfully installed MarkupSafe-2.0.1 Send2Trash-1.8.0 appnope-0.1.2 argon2-cffi-20.1.0 backcall-0.2.0 bleach-4.0.0 cycler-0.10.0 debugpy-1.4.1 decorator-5.0.9 defusedxml-0.7.1 entrypoints-0.3 ipykernel-6.2.0 ipython-7.26.0 ipython-genutils-0.2.0 ipywidgets-7.6.3 jedi-0.18.0 jinja2-3.0.1 jupyter-client-7.0.1 jupyter-core-4.7.1 jupyterlab-pygments-0.1.2 jupyterlab-widgets-1.0.0 kiwisolver-1.3.1 matplotlib-3.4.3 matplotlib-inline-0.1.2 mistune-0.8.4 nbclient-0.5.4 nbconvert-6.1.0 nbformat-5.1.3 nest-asyncio-1.5.1 notebook-6.4.3 packaging-21.0 pandocfilters-1.4.3 parso-0.8.2 pexpect-4.8.0 pickleshare-0.7.5 pillow-8.3.1 prometheus-client-0.11.0 prompt-toolkit-3.0.20 ptyprocess-0.7.0 pydot-1.4.2 pygments-2.10.0 pylatexenc-2.10 pyparsing-2.4.7 pyzmq-22.2.1 seaborn-0.11.2 terminado-0.11.1 testpath-0.5.0 tornado-6.1 traitlets-5.0.5 wcwidth-0.2.5 webencodings-0.5.1 widgetsnbextension-3.5.1\n",
    "```\n",
    "\n",
    "これで、Jupyter 関連や matplotlib (結果をプロットするのに多用する！) などのインストールも完了しました！"
   ]
  },
  {
   "cell_type": "markdown",
   "id": "59476558",
   "metadata": {},
   "source": [
    "## Qiskit を試してみる！\n",
    "早速 Qiskit を試しに使ってみましょう。ここでは Qiskit Documentation にある [Introduction to Qiskit] のコードをそのまま動かしてみます。\n",
    "まずはターミナルで jupyter-notebook を実行すると Jupyter Notebook が起動してブラウザが自動で開くので、新しいファイルを開きます。\n",
    "そこでとりあえず Introduction to Qiskit のある以下のコードをコピペして実行してみます。\n"
   ]
  },
  {
   "cell_type": "code",
   "execution_count": 2,
   "id": "5cdf90c0",
   "metadata": {},
   "outputs": [
    {
     "name": "stdout",
     "output_type": "stream",
     "text": [
      "\n",
      "Total count for 00 and 11 are: {'11': 510, '00': 490}\n"
     ]
    },
    {
     "data": {
      "text/html": [
       "<pre style=\"word-wrap: normal;white-space: pre;background: #fff0;line-height: 1.1;font-family: &quot;Courier New&quot;,Courier,monospace\">     ┌───┐     ┌─┐   \n",
       "q_0: ┤ H ├──■──┤M├───\n",
       "     └───┘┌─┴─┐└╥┘┌─┐\n",
       "q_1: ─────┤ X ├─╫─┤M├\n",
       "          └───┘ ║ └╥┘\n",
       "c: 2/═══════════╩══╩═\n",
       "                0  1 </pre>"
      ],
      "text/plain": [
       "     ┌───┐     ┌─┐   \n",
       "q_0: ┤ H ├──■──┤M├───\n",
       "     └───┘┌─┴─┐└╥┘┌─┐\n",
       "q_1: ─────┤ X ├─╫─┤M├\n",
       "          └───┘ ║ └╥┘\n",
       "c: 2/═══════════╩══╩═\n",
       "                0  1 "
      ]
     },
     "execution_count": 2,
     "metadata": {},
     "output_type": "execute_result"
    }
   ],
   "source": [
    "import numpy as np\n",
    "from qiskit import QuantumCircuit, transpile\n",
    "from qiskit.providers.aer import QasmSimulator\n",
    "from qiskit.visualization import plot_histogram\n",
    "\n",
    "# Use Aer's qasm_simulator\n",
    "simulator = QasmSimulator()\n",
    "\n",
    "# Create a Quantum Circuit acting on the q register\n",
    "circuit = QuantumCircuit(2, 2)\n",
    "\n",
    "# Add a H gate on qubit 0\n",
    "circuit.h(0)\n",
    "\n",
    "# Add a CX (CNOT) gate on control qubit 0 and target qubit 1\n",
    "circuit.cx(0, 1)\n",
    "\n",
    "# Map the quantum measurement to the classical bits\n",
    "circuit.measure([0,1], [0,1])\n",
    "\n",
    "# compile the circuit down to low-level QASM instructions\n",
    "# supported by the backend (not needed for simple circuits)\n",
    "compiled_circuit = transpile(circuit, simulator)\n",
    "\n",
    "# Execute the circuit on the qasm simulator\n",
    "job = simulator.run(compiled_circuit, shots=1000)\n",
    "\n",
    "# Grab results from the job\n",
    "result = job.result()\n",
    "\n",
    "# Returns counts\n",
    "counts = result.get_counts(compiled_circuit)\n",
    "print(\"\\nTotal count for 00 and 11 are:\",counts)\n",
    "\n",
    "# Draw the circuit\n",
    "circuit.draw()"
   ]
  },
  {
   "cell_type": "markdown",
   "id": "a9f52868",
   "metadata": {},
   "source": [
    "すると何やら量子回路が作成できました！\n",
    "そしてこれまたコピペで plot_histogram してみます。"
   ]
  },
  {
   "cell_type": "code",
   "execution_count": 3,
   "id": "965a7104",
   "metadata": {},
   "outputs": [
    {
     "data": {
      "image/png": "[encoded data removed]",
      "text/plain": [
       "<Figure size 504x360 with 1 Axes>"
      ]
     },
     "execution_count": 3,
     "metadata": {},
     "output_type": "execute_result"
    },
    {
     "data": {
      "image/png": "[encoded data removed]",
      "text/plain": [
       "<Figure size 504x360 with 1 Axes>"
      ]
     },
     "metadata": {
      "needs_background": "light"
     },
     "output_type": "display_data"
    }
   ],
   "source": [
    "# Plot a histogram\n",
    "plot_histogram(counts)"
   ]
  },
  {
   "cell_type": "markdown",
   "id": "750593cf",
   "metadata": {},
   "source": [
    "ヒストグラムも描画できました！\n",
    "'00' と '11' の2つの状態がおおよそ半々ずつの状態ということでしょうね。\n",
    "今回はコードの中身には深入りしません。今後1つずつ見ていこうかと思います。"
   ]
  },
  {
   "cell_type": "markdown",
   "id": "47ae6476",
   "metadata": {},
   "source": [
    "## Version 情報\n",
    "最後に、Qiskit のドキュメントに倣って、qiskit/python/OS などの version 情報を載せておきます。\n",
    "以下を実行するだけで表形式で綺麗に出してくれます。便利ですね。"
   ]
  },
  {
   "cell_type": "code",
   "execution_count": 5,
   "id": "fca720d8",
   "metadata": {},
   "outputs": [
    {
     "data": {
      "text/html": [
       "<h3>Version Information</h3><table><tr><th>Qiskit Software</th><th>Version</th></tr><tr><td><code>qiskit-terra</code></td><td>0.18.1</td></tr><tr><td><code>qiskit-aer</code></td><td>0.8.2</td></tr><tr><td><code>qiskit-ignis</code></td><td>0.6.0</td></tr><tr><td><code>qiskit-ibmq-provider</code></td><td>0.16.0</td></tr><tr><td><code>qiskit-aqua</code></td><td>0.9.4</td></tr><tr><td><code>qiskit</code></td><td>0.29.0</td></tr><tr><th>System information</th></tr><tr><td>Python</td><td>3.9.6 (default, Aug 18 2021, 12:38:10) \n",
       "[Clang 10.0.0 ]</td></tr><tr><td>OS</td><td>Darwin</td></tr><tr><td>CPUs</td><td>6</td></tr><tr><td>Memory (Gb)</td><td>16.0</td></tr><tr><td colspan='2'>Mon Aug 30 22:42:58 2021 JST</td></tr></table>"
      ],
      "text/plain": [
       "<IPython.core.display.HTML object>"
      ]
     },
     "metadata": {},
     "output_type": "display_data"
    }
   ],
   "source": [
    "import qiskit.tools.jupyter\n",
    "%qiskit_version_table"
   ]
  }
 ],
 "metadata": {
  "kernelspec": {
   "display_name": "Python 3 (ipykernel)",
   "language": "python",
   "name": "python3"
  },
  "language_info": {
   "codemirror_mode": {
    "name": "ipython",
    "version": 3
   },
   "file_extension": ".py",
   "mimetype": "text/x-python",
   "name": "python",
   "nbconvert_exporter": "python",
   "pygments_lexer": "ipython3",
   "version": "3.9.6"
  }
 },
 "nbformat": 4,
 "nbformat_minor": 5
}
